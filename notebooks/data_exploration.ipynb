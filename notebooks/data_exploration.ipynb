{
  "nbformat": 4,
  "nbformat_minor": 0,
  "metadata": {
    "colab": {
      "provenance": []
    },
    "kernelspec": {
      "name": "python3",
      "display_name": "Python 3"
    },
    "language_info": {
      "name": "python"
    },
    "widgets": {
      "application/vnd.jupyter.widget-state+json": {
        "15f4c8d0e92540d2882bcd18c74e4051": {
          "model_module": "@jupyter-widgets/controls",
          "model_name": "HBoxModel",
          "model_module_version": "1.5.0",
          "state": {
            "_dom_classes": [],
            "_model_module": "@jupyter-widgets/controls",
            "_model_module_version": "1.5.0",
            "_model_name": "HBoxModel",
            "_view_count": null,
            "_view_module": "@jupyter-widgets/controls",
            "_view_module_version": "1.5.0",
            "_view_name": "HBoxView",
            "box_style": "",
            "children": [
              "IPY_MODEL_e44339dd090a4025be10480047dd43f3",
              "IPY_MODEL_2cd9ef9ba38846608cb413a1b6e3d762",
              "IPY_MODEL_b1c82f5eef354ba589c8d7c88bbb6084"
            ],
            "layout": "IPY_MODEL_7228d869a4b640629f81617c8cc1919c"
          }
        },
        "e44339dd090a4025be10480047dd43f3": {
          "model_module": "@jupyter-widgets/controls",
          "model_name": "HTMLModel",
          "model_module_version": "1.5.0",
          "state": {
            "_dom_classes": [],
            "_model_module": "@jupyter-widgets/controls",
            "_model_module_version": "1.5.0",
            "_model_name": "HTMLModel",
            "_view_count": null,
            "_view_module": "@jupyter-widgets/controls",
            "_view_module_version": "1.5.0",
            "_view_name": "HTMLView",
            "description": "",
            "description_tooltip": null,
            "layout": "IPY_MODEL_56bfdf1400994e52b6655f7a6811a197",
            "placeholder": "​",
            "style": "IPY_MODEL_b72633c940b44643b36cb74cac76261f",
            "value": "data/test.parquet/part.0.parquet: 100%"
          }
        },
        "2cd9ef9ba38846608cb413a1b6e3d762": {
          "model_module": "@jupyter-widgets/controls",
          "model_name": "FloatProgressModel",
          "model_module_version": "1.5.0",
          "state": {
            "_dom_classes": [],
            "_model_module": "@jupyter-widgets/controls",
            "_model_module_version": "1.5.0",
            "_model_name": "FloatProgressModel",
            "_view_count": null,
            "_view_module": "@jupyter-widgets/controls",
            "_view_module_version": "1.5.0",
            "_view_name": "ProgressView",
            "bar_style": "success",
            "description": "",
            "description_tooltip": null,
            "layout": "IPY_MODEL_c3b82497bd4442fc9bc553d0cf3d17ae",
            "max": 54366,
            "min": 0,
            "orientation": "horizontal",
            "style": "IPY_MODEL_d0c8f631b59540e49640553cd967de19",
            "value": 54366
          }
        },
        "b1c82f5eef354ba589c8d7c88bbb6084": {
          "model_module": "@jupyter-widgets/controls",
          "model_name": "HTMLModel",
          "model_module_version": "1.5.0",
          "state": {
            "_dom_classes": [],
            "_model_module": "@jupyter-widgets/controls",
            "_model_module_version": "1.5.0",
            "_model_name": "HTMLModel",
            "_view_count": null,
            "_view_module": "@jupyter-widgets/controls",
            "_view_module_version": "1.5.0",
            "_view_name": "HTMLView",
            "description": "",
            "description_tooltip": null,
            "layout": "IPY_MODEL_ba4be3d6095a425a998de01b285e0459",
            "placeholder": "​",
            "style": "IPY_MODEL_98b78c55447348f29fb6712b52563110",
            "value": " 54.4k/54.4k [00:00&lt;00:00, 143kB/s]"
          }
        },
        "7228d869a4b640629f81617c8cc1919c": {
          "model_module": "@jupyter-widgets/base",
          "model_name": "LayoutModel",
          "model_module_version": "1.2.0",
          "state": {
            "_model_module": "@jupyter-widgets/base",
            "_model_module_version": "1.2.0",
            "_model_name": "LayoutModel",
            "_view_count": null,
            "_view_module": "@jupyter-widgets/base",
            "_view_module_version": "1.2.0",
            "_view_name": "LayoutView",
            "align_content": null,
            "align_items": null,
            "align_self": null,
            "border": null,
            "bottom": null,
            "display": null,
            "flex": null,
            "flex_flow": null,
            "grid_area": null,
            "grid_auto_columns": null,
            "grid_auto_flow": null,
            "grid_auto_rows": null,
            "grid_column": null,
            "grid_gap": null,
            "grid_row": null,
            "grid_template_areas": null,
            "grid_template_columns": null,
            "grid_template_rows": null,
            "height": null,
            "justify_content": null,
            "justify_items": null,
            "left": null,
            "margin": null,
            "max_height": null,
            "max_width": null,
            "min_height": null,
            "min_width": null,
            "object_fit": null,
            "object_position": null,
            "order": null,
            "overflow": null,
            "overflow_x": null,
            "overflow_y": null,
            "padding": null,
            "right": null,
            "top": null,
            "visibility": null,
            "width": null
          }
        },
        "56bfdf1400994e52b6655f7a6811a197": {
          "model_module": "@jupyter-widgets/base",
          "model_name": "LayoutModel",
          "model_module_version": "1.2.0",
          "state": {
            "_model_module": "@jupyter-widgets/base",
            "_model_module_version": "1.2.0",
            "_model_name": "LayoutModel",
            "_view_count": null,
            "_view_module": "@jupyter-widgets/base",
            "_view_module_version": "1.2.0",
            "_view_name": "LayoutView",
            "align_content": null,
            "align_items": null,
            "align_self": null,
            "border": null,
            "bottom": null,
            "display": null,
            "flex": null,
            "flex_flow": null,
            "grid_area": null,
            "grid_auto_columns": null,
            "grid_auto_flow": null,
            "grid_auto_rows": null,
            "grid_column": null,
            "grid_gap": null,
            "grid_row": null,
            "grid_template_areas": null,
            "grid_template_columns": null,
            "grid_template_rows": null,
            "height": null,
            "justify_content": null,
            "justify_items": null,
            "left": null,
            "margin": null,
            "max_height": null,
            "max_width": null,
            "min_height": null,
            "min_width": null,
            "object_fit": null,
            "object_position": null,
            "order": null,
            "overflow": null,
            "overflow_x": null,
            "overflow_y": null,
            "padding": null,
            "right": null,
            "top": null,
            "visibility": null,
            "width": null
          }
        },
        "b72633c940b44643b36cb74cac76261f": {
          "model_module": "@jupyter-widgets/controls",
          "model_name": "DescriptionStyleModel",
          "model_module_version": "1.5.0",
          "state": {
            "_model_module": "@jupyter-widgets/controls",
            "_model_module_version": "1.5.0",
            "_model_name": "DescriptionStyleModel",
            "_view_count": null,
            "_view_module": "@jupyter-widgets/base",
            "_view_module_version": "1.2.0",
            "_view_name": "StyleView",
            "description_width": ""
          }
        },
        "c3b82497bd4442fc9bc553d0cf3d17ae": {
          "model_module": "@jupyter-widgets/base",
          "model_name": "LayoutModel",
          "model_module_version": "1.2.0",
          "state": {
            "_model_module": "@jupyter-widgets/base",
            "_model_module_version": "1.2.0",
            "_model_name": "LayoutModel",
            "_view_count": null,
            "_view_module": "@jupyter-widgets/base",
            "_view_module_version": "1.2.0",
            "_view_name": "LayoutView",
            "align_content": null,
            "align_items": null,
            "align_self": null,
            "border": null,
            "bottom": null,
            "display": null,
            "flex": null,
            "flex_flow": null,
            "grid_area": null,
            "grid_auto_columns": null,
            "grid_auto_flow": null,
            "grid_auto_rows": null,
            "grid_column": null,
            "grid_gap": null,
            "grid_row": null,
            "grid_template_areas": null,
            "grid_template_columns": null,
            "grid_template_rows": null,
            "height": null,
            "justify_content": null,
            "justify_items": null,
            "left": null,
            "margin": null,
            "max_height": null,
            "max_width": null,
            "min_height": null,
            "min_width": null,
            "object_fit": null,
            "object_position": null,
            "order": null,
            "overflow": null,
            "overflow_x": null,
            "overflow_y": null,
            "padding": null,
            "right": null,
            "top": null,
            "visibility": null,
            "width": null
          }
        },
        "d0c8f631b59540e49640553cd967de19": {
          "model_module": "@jupyter-widgets/controls",
          "model_name": "ProgressStyleModel",
          "model_module_version": "1.5.0",
          "state": {
            "_model_module": "@jupyter-widgets/controls",
            "_model_module_version": "1.5.0",
            "_model_name": "ProgressStyleModel",
            "_view_count": null,
            "_view_module": "@jupyter-widgets/base",
            "_view_module_version": "1.2.0",
            "_view_name": "StyleView",
            "bar_color": null,
            "description_width": ""
          }
        },
        "ba4be3d6095a425a998de01b285e0459": {
          "model_module": "@jupyter-widgets/base",
          "model_name": "LayoutModel",
          "model_module_version": "1.2.0",
          "state": {
            "_model_module": "@jupyter-widgets/base",
            "_model_module_version": "1.2.0",
            "_model_name": "LayoutModel",
            "_view_count": null,
            "_view_module": "@jupyter-widgets/base",
            "_view_module_version": "1.2.0",
            "_view_name": "LayoutView",
            "align_content": null,
            "align_items": null,
            "align_self": null,
            "border": null,
            "bottom": null,
            "display": null,
            "flex": null,
            "flex_flow": null,
            "grid_area": null,
            "grid_auto_columns": null,
            "grid_auto_flow": null,
            "grid_auto_rows": null,
            "grid_column": null,
            "grid_gap": null,
            "grid_row": null,
            "grid_template_areas": null,
            "grid_template_columns": null,
            "grid_template_rows": null,
            "height": null,
            "justify_content": null,
            "justify_items": null,
            "left": null,
            "margin": null,
            "max_height": null,
            "max_width": null,
            "min_height": null,
            "min_width": null,
            "object_fit": null,
            "object_position": null,
            "order": null,
            "overflow": null,
            "overflow_x": null,
            "overflow_y": null,
            "padding": null,
            "right": null,
            "top": null,
            "visibility": null,
            "width": null
          }
        },
        "98b78c55447348f29fb6712b52563110": {
          "model_module": "@jupyter-widgets/controls",
          "model_name": "DescriptionStyleModel",
          "model_module_version": "1.5.0",
          "state": {
            "_model_module": "@jupyter-widgets/controls",
            "_model_module_version": "1.5.0",
            "_model_name": "DescriptionStyleModel",
            "_view_count": null,
            "_view_module": "@jupyter-widgets/base",
            "_view_module_version": "1.2.0",
            "_view_name": "StyleView",
            "description_width": ""
          }
        },
        "15f737771fc2464685e0f392a3d88327": {
          "model_module": "@jupyter-widgets/controls",
          "model_name": "HBoxModel",
          "model_module_version": "1.5.0",
          "state": {
            "_dom_classes": [],
            "_model_module": "@jupyter-widgets/controls",
            "_model_module_version": "1.5.0",
            "_model_name": "HBoxModel",
            "_view_count": null,
            "_view_module": "@jupyter-widgets/controls",
            "_view_module_version": "1.5.0",
            "_view_name": "HBoxView",
            "box_style": "",
            "children": [
              "IPY_MODEL_77cc4bfdee4d40e6bab40b33c2a5c1e5",
              "IPY_MODEL_9fd8fa0967604106be3095523dfe493d",
              "IPY_MODEL_9de0d260874a430f86c9a8bdc140ad3c"
            ],
            "layout": "IPY_MODEL_1a034928095e4f8689ff4d8da2db6690"
          }
        },
        "77cc4bfdee4d40e6bab40b33c2a5c1e5": {
          "model_module": "@jupyter-widgets/controls",
          "model_name": "HTMLModel",
          "model_module_version": "1.5.0",
          "state": {
            "_dom_classes": [],
            "_model_module": "@jupyter-widgets/controls",
            "_model_module_version": "1.5.0",
            "_model_name": "HTMLModel",
            "_view_count": null,
            "_view_module": "@jupyter-widgets/controls",
            "_view_module_version": "1.5.0",
            "_view_name": "HTMLView",
            "description": "",
            "description_tooltip": null,
            "layout": "IPY_MODEL_8d404591012f4494873d3f5b4bec3ce0",
            "placeholder": "​",
            "style": "IPY_MODEL_5df09ca7e9fa41d3907d7a04be60b71b",
            "value": "Generating test split: 100%"
          }
        },
        "9fd8fa0967604106be3095523dfe493d": {
          "model_module": "@jupyter-widgets/controls",
          "model_name": "FloatProgressModel",
          "model_module_version": "1.5.0",
          "state": {
            "_dom_classes": [],
            "_model_module": "@jupyter-widgets/controls",
            "_model_module_version": "1.5.0",
            "_model_name": "FloatProgressModel",
            "_view_count": null,
            "_view_module": "@jupyter-widgets/controls",
            "_view_module_version": "1.5.0",
            "_view_name": "ProgressView",
            "bar_style": "success",
            "description": "",
            "description_tooltip": null,
            "layout": "IPY_MODEL_84f6fc1514ff4156bbead046cb6793b6",
            "max": 918,
            "min": 0,
            "orientation": "horizontal",
            "style": "IPY_MODEL_f575422ee7f84a88b2676802387bc114",
            "value": 918
          }
        },
        "9de0d260874a430f86c9a8bdc140ad3c": {
          "model_module": "@jupyter-widgets/controls",
          "model_name": "HTMLModel",
          "model_module_version": "1.5.0",
          "state": {
            "_dom_classes": [],
            "_model_module": "@jupyter-widgets/controls",
            "_model_module_version": "1.5.0",
            "_model_name": "HTMLModel",
            "_view_count": null,
            "_view_module": "@jupyter-widgets/controls",
            "_view_module_version": "1.5.0",
            "_view_name": "HTMLView",
            "description": "",
            "description_tooltip": null,
            "layout": "IPY_MODEL_b87d65bc46304fb38cacf00e940f7be9",
            "placeholder": "​",
            "style": "IPY_MODEL_d01a3c2ae4d34ab89decf8103b46d036",
            "value": " 918/918 [00:00&lt;00:00, 32566.51 examples/s]"
          }
        },
        "1a034928095e4f8689ff4d8da2db6690": {
          "model_module": "@jupyter-widgets/base",
          "model_name": "LayoutModel",
          "model_module_version": "1.2.0",
          "state": {
            "_model_module": "@jupyter-widgets/base",
            "_model_module_version": "1.2.0",
            "_model_name": "LayoutModel",
            "_view_count": null,
            "_view_module": "@jupyter-widgets/base",
            "_view_module_version": "1.2.0",
            "_view_name": "LayoutView",
            "align_content": null,
            "align_items": null,
            "align_self": null,
            "border": null,
            "bottom": null,
            "display": null,
            "flex": null,
            "flex_flow": null,
            "grid_area": null,
            "grid_auto_columns": null,
            "grid_auto_flow": null,
            "grid_auto_rows": null,
            "grid_column": null,
            "grid_gap": null,
            "grid_row": null,
            "grid_template_areas": null,
            "grid_template_columns": null,
            "grid_template_rows": null,
            "height": null,
            "justify_content": null,
            "justify_items": null,
            "left": null,
            "margin": null,
            "max_height": null,
            "max_width": null,
            "min_height": null,
            "min_width": null,
            "object_fit": null,
            "object_position": null,
            "order": null,
            "overflow": null,
            "overflow_x": null,
            "overflow_y": null,
            "padding": null,
            "right": null,
            "top": null,
            "visibility": null,
            "width": null
          }
        },
        "8d404591012f4494873d3f5b4bec3ce0": {
          "model_module": "@jupyter-widgets/base",
          "model_name": "LayoutModel",
          "model_module_version": "1.2.0",
          "state": {
            "_model_module": "@jupyter-widgets/base",
            "_model_module_version": "1.2.0",
            "_model_name": "LayoutModel",
            "_view_count": null,
            "_view_module": "@jupyter-widgets/base",
            "_view_module_version": "1.2.0",
            "_view_name": "LayoutView",
            "align_content": null,
            "align_items": null,
            "align_self": null,
            "border": null,
            "bottom": null,
            "display": null,
            "flex": null,
            "flex_flow": null,
            "grid_area": null,
            "grid_auto_columns": null,
            "grid_auto_flow": null,
            "grid_auto_rows": null,
            "grid_column": null,
            "grid_gap": null,
            "grid_row": null,
            "grid_template_areas": null,
            "grid_template_columns": null,
            "grid_template_rows": null,
            "height": null,
            "justify_content": null,
            "justify_items": null,
            "left": null,
            "margin": null,
            "max_height": null,
            "max_width": null,
            "min_height": null,
            "min_width": null,
            "object_fit": null,
            "object_position": null,
            "order": null,
            "overflow": null,
            "overflow_x": null,
            "overflow_y": null,
            "padding": null,
            "right": null,
            "top": null,
            "visibility": null,
            "width": null
          }
        },
        "5df09ca7e9fa41d3907d7a04be60b71b": {
          "model_module": "@jupyter-widgets/controls",
          "model_name": "DescriptionStyleModel",
          "model_module_version": "1.5.0",
          "state": {
            "_model_module": "@jupyter-widgets/controls",
            "_model_module_version": "1.5.0",
            "_model_name": "DescriptionStyleModel",
            "_view_count": null,
            "_view_module": "@jupyter-widgets/base",
            "_view_module_version": "1.2.0",
            "_view_name": "StyleView",
            "description_width": ""
          }
        },
        "84f6fc1514ff4156bbead046cb6793b6": {
          "model_module": "@jupyter-widgets/base",
          "model_name": "LayoutModel",
          "model_module_version": "1.2.0",
          "state": {
            "_model_module": "@jupyter-widgets/base",
            "_model_module_version": "1.2.0",
            "_model_name": "LayoutModel",
            "_view_count": null,
            "_view_module": "@jupyter-widgets/base",
            "_view_module_version": "1.2.0",
            "_view_name": "LayoutView",
            "align_content": null,
            "align_items": null,
            "align_self": null,
            "border": null,
            "bottom": null,
            "display": null,
            "flex": null,
            "flex_flow": null,
            "grid_area": null,
            "grid_auto_columns": null,
            "grid_auto_flow": null,
            "grid_auto_rows": null,
            "grid_column": null,
            "grid_gap": null,
            "grid_row": null,
            "grid_template_areas": null,
            "grid_template_columns": null,
            "grid_template_rows": null,
            "height": null,
            "justify_content": null,
            "justify_items": null,
            "left": null,
            "margin": null,
            "max_height": null,
            "max_width": null,
            "min_height": null,
            "min_width": null,
            "object_fit": null,
            "object_position": null,
            "order": null,
            "overflow": null,
            "overflow_x": null,
            "overflow_y": null,
            "padding": null,
            "right": null,
            "top": null,
            "visibility": null,
            "width": null
          }
        },
        "f575422ee7f84a88b2676802387bc114": {
          "model_module": "@jupyter-widgets/controls",
          "model_name": "ProgressStyleModel",
          "model_module_version": "1.5.0",
          "state": {
            "_model_module": "@jupyter-widgets/controls",
            "_model_module_version": "1.5.0",
            "_model_name": "ProgressStyleModel",
            "_view_count": null,
            "_view_module": "@jupyter-widgets/base",
            "_view_module_version": "1.2.0",
            "_view_name": "StyleView",
            "bar_color": null,
            "description_width": ""
          }
        },
        "b87d65bc46304fb38cacf00e940f7be9": {
          "model_module": "@jupyter-widgets/base",
          "model_name": "LayoutModel",
          "model_module_version": "1.2.0",
          "state": {
            "_model_module": "@jupyter-widgets/base",
            "_model_module_version": "1.2.0",
            "_model_name": "LayoutModel",
            "_view_count": null,
            "_view_module": "@jupyter-widgets/base",
            "_view_module_version": "1.2.0",
            "_view_name": "LayoutView",
            "align_content": null,
            "align_items": null,
            "align_self": null,
            "border": null,
            "bottom": null,
            "display": null,
            "flex": null,
            "flex_flow": null,
            "grid_area": null,
            "grid_auto_columns": null,
            "grid_auto_flow": null,
            "grid_auto_rows": null,
            "grid_column": null,
            "grid_gap": null,
            "grid_row": null,
            "grid_template_areas": null,
            "grid_template_columns": null,
            "grid_template_rows": null,
            "height": null,
            "justify_content": null,
            "justify_items": null,
            "left": null,
            "margin": null,
            "max_height": null,
            "max_width": null,
            "min_height": null,
            "min_width": null,
            "object_fit": null,
            "object_position": null,
            "order": null,
            "overflow": null,
            "overflow_x": null,
            "overflow_y": null,
            "padding": null,
            "right": null,
            "top": null,
            "visibility": null,
            "width": null
          }
        },
        "d01a3c2ae4d34ab89decf8103b46d036": {
          "model_module": "@jupyter-widgets/controls",
          "model_name": "DescriptionStyleModel",
          "model_module_version": "1.5.0",
          "state": {
            "_model_module": "@jupyter-widgets/controls",
            "_model_module_version": "1.5.0",
            "_model_name": "DescriptionStyleModel",
            "_view_count": null,
            "_view_module": "@jupyter-widgets/base",
            "_view_module_version": "1.2.0",
            "_view_name": "StyleView",
            "description_width": ""
          }
        }
      }
    }
  },
  "cells": [
    {
      "cell_type": "markdown",
      "source": [
        "# **Step 1: Domain Documents**\n",
        "\n",
        "For the following step, data exploration needs to be done and documented for the rag-datasets/rag-mini-wikipedia"
      ],
      "metadata": {
        "id": "qTD77IySP80l"
      }
    },
    {
      "cell_type": "markdown",
      "source": [
        "### Libraries install and import"
      ],
      "metadata": {
        "id": "C1gYtH6VQunU"
      }
    },
    {
      "cell_type": "code",
      "execution_count": 28,
      "metadata": {
        "id": "qAqSI-kpPYkW"
      },
      "outputs": [],
      "source": [
        "from datasets import load_dataset\n",
        "import pandas as pd\n",
        "import matplotlib.pyplot as plt\n",
        "import seaborn as sns"
      ]
    },
    {
      "cell_type": "markdown",
      "source": [
        "### Loading Dataset"
      ],
      "metadata": {
        "id": "0006pUZ8Rms5"
      }
    },
    {
      "cell_type": "code",
      "source": [
        "dataset_text = load_dataset('rag-datasets/rag-mini-wikipedia', 'text-corpus')\n",
        "\n",
        "dataset_qa = load_dataset('rag-datasets/rag-mini-wikipedia', 'question-answer')"
      ],
      "metadata": {
        "colab": {
          "base_uri": "https://localhost:8080/",
          "height": 81,
          "referenced_widgets": [
            "15f4c8d0e92540d2882bcd18c74e4051",
            "e44339dd090a4025be10480047dd43f3",
            "2cd9ef9ba38846608cb413a1b6e3d762",
            "b1c82f5eef354ba589c8d7c88bbb6084",
            "7228d869a4b640629f81617c8cc1919c",
            "56bfdf1400994e52b6655f7a6811a197",
            "b72633c940b44643b36cb74cac76261f",
            "c3b82497bd4442fc9bc553d0cf3d17ae",
            "d0c8f631b59540e49640553cd967de19",
            "ba4be3d6095a425a998de01b285e0459",
            "98b78c55447348f29fb6712b52563110",
            "15f737771fc2464685e0f392a3d88327",
            "77cc4bfdee4d40e6bab40b33c2a5c1e5",
            "9fd8fa0967604106be3095523dfe493d",
            "9de0d260874a430f86c9a8bdc140ad3c",
            "1a034928095e4f8689ff4d8da2db6690",
            "8d404591012f4494873d3f5b4bec3ce0",
            "5df09ca7e9fa41d3907d7a04be60b71b",
            "84f6fc1514ff4156bbead046cb6793b6",
            "f575422ee7f84a88b2676802387bc114",
            "b87d65bc46304fb38cacf00e940f7be9",
            "d01a3c2ae4d34ab89decf8103b46d036"
          ]
        },
        "id": "W3FBecj2RiJF",
        "outputId": "100e2e6c-8d8b-4eac-abb2-28fed3ff80ca"
      },
      "execution_count": 5,
      "outputs": [
        {
          "output_type": "display_data",
          "data": {
            "text/plain": [
              "data/test.parquet/part.0.parquet:   0%|          | 0.00/54.4k [00:00<?, ?B/s]"
            ],
            "application/vnd.jupyter.widget-view+json": {
              "version_major": 2,
              "version_minor": 0,
              "model_id": "15f4c8d0e92540d2882bcd18c74e4051"
            }
          },
          "metadata": {}
        },
        {
          "output_type": "display_data",
          "data": {
            "text/plain": [
              "Generating test split:   0%|          | 0/918 [00:00<?, ? examples/s]"
            ],
            "application/vnd.jupyter.widget-view+json": {
              "version_major": 2,
              "version_minor": 0,
              "model_id": "15f737771fc2464685e0f392a3d88327"
            }
          },
          "metadata": {}
        }
      ]
    },
    {
      "cell_type": "markdown",
      "source": [
        "Making Given QA corpus to Dataframe"
      ],
      "metadata": {
        "id": "B-AzVQvtR9VU"
      }
    },
    {
      "cell_type": "markdown",
      "source": [
        "### EDA on the QA Dataframe"
      ],
      "metadata": {
        "id": "VtjspVphSHMy"
      }
    },
    {
      "cell_type": "markdown",
      "source": [
        "#### EDA on Train Set"
      ],
      "metadata": {
        "id": "RDCJdD4VT5wO"
      }
    },
    {
      "cell_type": "markdown",
      "source": [
        "Checking Structure of the Dataset"
      ],
      "metadata": {
        "id": "ik1BkZhfUciz"
      }
    },
    {
      "cell_type": "code",
      "source": [
        "dataset_text"
      ],
      "metadata": {
        "colab": {
          "base_uri": "https://localhost:8080/"
        },
        "id": "JKlLILlqUWBv",
        "outputId": "8e91bfeb-7e6b-4b48-fb28-b07d018c97db"
      },
      "execution_count": 24,
      "outputs": [
        {
          "output_type": "execute_result",
          "data": {
            "text/plain": [
              "DatasetDict({\n",
              "    passages: Dataset({\n",
              "        features: ['passage', 'id'],\n",
              "        num_rows: 3200\n",
              "    })\n",
              "})"
            ]
          },
          "metadata": {},
          "execution_count": 24
        }
      ]
    },
    {
      "cell_type": "markdown",
      "source": [
        "Printing only list of first 200 passages"
      ],
      "metadata": {
        "id": "L2o-nz5NUjVS"
      }
    },
    {
      "cell_type": "code",
      "source": [
        "print(dataset_text['passages']['passage'][:200])"
      ],
      "metadata": {
        "colab": {
          "base_uri": "https://localhost:8080/"
        },
        "id": "V72O0olzUBHO",
        "outputId": "8fafd646-7556-4fc4-f90a-50137a81190e"
      },
      "execution_count": 26,
      "outputs": [
        {
          "output_type": "stream",
          "name": "stdout",
          "text": [
            "['Uruguay (official full name in  ; pron.  , Eastern Republic of  Uruguay) is a country located in the southeastern part of South America.  It is home to 3.3 million people, of which 1.7 million live in the capital Montevideo and its metropolitan area.', 'It is bordered by Brazil to the north, by Argentina across the bank of both the Uruguay River to the west and the estuary of RÃ\\xado de la Plata to the southwest, and the South Atlantic Ocean to the southeast. It is the second smallest independent country in South America, larger only than Suriname and the French overseas department of French Guiana.', 'Montevideo was founded by the Spanish in the early 18th century as a military stronghold. Uruguay won its independence in 1828 following a three-way struggle between Spain, Argentina and Brazil. It is a constitutional democracy, where the president fulfills the roles of both head of state and head of government', 'The economy is largely based in agriculture (making up 10% of the GDP and the most substantial export) and the state-sector, and relies heavily on world trade. Consequently, it is badly affected by any downturn in global prices. However, the economy is on the whole more stable than surrounding states, and it maintains a solid reputation with investors.', 'According to Transparency International, Uruguay is the second least corrupt country in Latin America (after Chile),  Transparency.org.  with its political and labor conditions being among the freest on the continent.', 'In November 2007 it became the first Latin American country and the second in the American Continent to recognize same-sex civil unions at the national level.   Uruguay Passes Civil-Union Law at  San Francisco Bay Times (December 6, 2007)', '88% of the population are of European descent. Just under two-thirds of the population are declared Roman Catholics. However, the majority of Uruguayans are only nominally religious.  CIA World Factbook -- Uruguay', 'The name \"Uruguay\" comes from GuaranÃ\\xad. It has many possible meanings. Some of the proposed meanings are:', '* \"River of colorful or \\'painted\\' chinchillas (birds)\": poetic interpretation attributed to Juan Zorrilla de San MartÃ\\xadn. ', '* \"River of those who bring food\": an anonymous version which has been popularized since the discovery of an old document written by Jesuit Lucas Marton.', 'The inhabitants of Uruguay before European colonization of the area were various tribes of hunter gatherer native Americans, the most well known being the CharrÃºa Indians, a small tribe driven south by the GuaranÃ\\xad Indians of Paraguay. The population is estimated at no more than 5000 to 10000.  /ref>', 'The Plaza Independencia (\"Independence Square\"), in Montevideo, hosts the tomb of JosÃ© Artigas, late leader of the Provincia Oriental and the Liga Federal. In front of the square, the Palacio Salvo can be seen.', \"Europeans arrived in the territory of present-day Uruguay in the year 1536, but the absence of gold and silver limited settlement in the region during the 16th and 17th centuries. Uruguay became a zone of contention between the Spanish and the Portuguese empires. In 1603 the Spanish began to introduce cattle, which became a source of wealth in the region.  /ref> The first permanent settlement on the territory of present-day Uruguay was founded by the Spanish in 1624 at Villa Soriano on the south-western coast of the RÃ\\xado Negro. In 1680 the Portuguese built a fort at Colonia del Sacramento.  /ref> Spanish colonization increased as Spain sought to limit Portugal's expansion of Brazil's frontiers.\", \"Another segment of colonial Uruguay's population consisted of people of African descent.  Colonial Uruguay's African community grew in number as its members escaped harsh treatment in Buenos Aires. Many relocated to Montevideo, which had a larger black community, seemed lest hostile politically than Buenos Aires, and had a more favorable climate with lower humidity.\", 'As a province of the Viceroyalty of La Plata, colonial Uruguay was known as the Banda Oriental, or Eastern Strip, referring to its location east of the Rio Uruguay. The inhabitants called themselves \"Easterners\" or \"Orientales\", a term they still commonly use to refer to themselves.', \"Uruguay's capital, Montevideo, was founded by the Spanish in the early 18th century as a military stronghold; its natural harbor soon developed into a commercial center competing with Argentina's capital, Buenos Aires. Uruguay's early 19th century history was shaped by ongoing conflicts between the British, Spanish, Portuguese, and colonial forces for dominance in the Argentina-Brazil-Uruguay region.  /ref> In 1806 and 1807, the British army attempted to seize Buenos Aires as part of their war with Spain. As a result, at the beginning of 1807, Montevideo was occupied by a 10,000-strong British force who held it until the middle of the year when they left to attack Buenos Aires.\", 'The Uruguayans\\' road to independence was much longer than those of other countries in the Americas. Early efforts at attaining independence focused on overthrow of Spanish rule, a process begun by Jose Gervasio Artigas in 1811 when he led his forces to victory against the Spanish in the battle of Las Piedras on May 18, 1811. In 1816, Portuguese troops invaded present-day Uruguay, which led to its eventual annexation by Brazil in 1821 under the provincial name, Provincia Cisplatina.  On April 19, 1825, thirty-three Uruguayan exiles led by Juan Antonio Lavalleja returned from Buenos Aires to lead an insurrection in Uruguay with the help of Argentine troops.  They were known as the \"Treinta y Tres Orientales\".  Their actions inspired representatives from Uruguay to meet in La Florida, a town in the recently liberated area, where they declared independence from Portugal (and therefore Brazil) on August 25, 1825.  Uruguayan independence was not recognized by its neighbors until 1828, when Britain, in search of new commercial markets, brokered peace between Argentina, Brazil, and Uruguay.  /ref>', 'RÃ\\xado de la Plata in 1603.', \"Uruguay's politics takes place in a framework of a presidential representative democratic republic, whereby the President of Uruguay is both head of state and head of government, and of a pluriform multi-party system. Executive power is exercised by the government. Legislative power is vested in both the government and the two chambers of the General Assembly of Uruguay. The Judiciary is independent of the executive and the legislature.\", \"For most of Uruguay's history, the Partido Colorado and Partido Blanco have alternated in power. The Partido Blanco has its roots in the countryside and the original settlers of Spanish origin and the cattle ranchers. The Partido Colorado has its roots in the port city of Montevideo, the new immigrants of Italian origin and the backing of foreign interests. The Partido Colorado built a welfare state financed by taxing the cattle revenue and giving state pickles and free services to the new urban immigrants which became dependent of the state. The elections of 2004, however, brought the Frente Amplio, a coalition of socialists, former Tupamaros, former communists and mainly social democrats among others to power with majorities in both houses of parliament and the election of President TabarÃ© VÃ¡zquez by an absolute majority.\", 'The Frente Amplio has displaced the Partido Colorado from its traditional urban welfare state constituency and is enjoying  a boom in export commodity prices.', 'The Reporters Without Borders worldwide press freedom index has ranked Uruguay as* 57th of 168 reported countries in 2006.  Reporters Without Borders Worldwide Press Freedom Index 2006', 'According to Freedom House, an American organization that tracks global trends in political freedom, Uruguay ranked twenty-seventh in its \"Freedom in the World\" index. According to the Economist Intelligence Unit, Uruguay scores a 7.96 on the Democracy Index, located in the last position among the 28 countries considered to be Full Democracies in the world. The report looks at 60 indicators across five categories: Free elections, civil liberties, functioning government, political participation and political culture. The Economist, The world in 2007, A Pause in democracy\\'s march Page 93', 'Uruguay ranks 28th in the World CPI (Corruption Perception Index) composed by Transparency International.', \"The Uruguayan constitution allows citizens to challenge laws approved by Parliament by use of a Referendum, or to propose changes to the Constitution by the use of a Plebiscite. During the last 15 years the method has been used several times; to confirm an amnesty to members of the military who violated human rights during the military regime (1973-1985), to stop privatization of public utilities companies (See Economy: Public Sector), to defend pensioners' incomes, and to protect water resources.\", \"At 176,214 square kilometres (68,036 square miles) of continental land and 142,199 square kilometres (54,903 sq mi) of jurisdictional waters and small river islands,  Instituto Nacional Estadistica  Uruguay is the second smallest sovereign nation in South America (after Suriname) and the third smallest territory (French Guiana is the smallest). The landscape features mostly rolling plains and low hill ranges (cuchillas) with a fertile coastal lowland. A dense fluvial network covers the country, consisting of four river basins or deltas; the RÃ\\xado de la Plata, the Uruguay River, the Laguna MerÃ\\xadn and the RÃ\\xado Negro. The major internal river is the RÃ\\xado Negro ('black river'). Several lagoons are found along the Atlantic coast.\", \"The highest point in the country is the Cerro Catedral at 513.66 meters (1,685 ft 3 in) in the 'Sierra de CarapÃ©' mountain range. To the southwest is the RÃ\\xado de la Plata, the estuary of the Uruguay River, which forms the western border, and the ParanÃ¡ River, that does not run through Uruguay itself.\", 'Uruguay consists of nineteen departments ( , singular  ). The first departments were formed in 1816 and the newest date from 1885 which is Flores. The departments are governed by an intendente municipal who is elected for five years. The members of the Departmental Assembly ( ) form the legislative level of the department.  ', 'Map of Uruguay', 'Uruguay shares borders with two countries, with Argentina: ', 'and with Brazil:', 'The climate in Uruguay is temperate: it has warm summers and cold winters. The predominantly gently undulating landscape is also somewhat vulnerable to rapid changes from weather fronts.', 'It receives the periodic influence of the polar air in winter, and tropical air from Brazil in summer. Without mountains in  zone that act as a barrier, the air masses freely move by the territory, causing abrupt weather changes.', 'The coolest month is June, while the warmest is January. The rainfall is equally distributed throughout the year, but tends to be a bit more frequent in the autumn months. There can be frequent thunderstorms in the summer. Although snow is not very common, it snowed in 1913, 1918, 1963, 1989, 1992, and 2007.    ', 'Playa Brava in Punta del Este, Uruguay', 'Since 1984 Uruguay has the Antarctic base \"General Artigas\" on King George Island in Antarctica, part of the South Shetland Islands archipelago, at  , some 100 km (62 mi) from the Antarctic peninsula itself.', \"Montevideo, Uruguay's capital.\", 'Uruguay has a middle income economy, mainly dominated by the State services sector, an export-oriented agricultural sector and an industrial sector. Uruguay relies heavily on trade, particularly in agricultural exports, leaving the country particularly vulnerable to slumps in commodity prices and global economic slowdowns. After averaging growth of 5% annually in 1996-1998, in 1999-2001 the economy suffered from lower demand in Argentina and Brazil, which together account for nearly half of Uruguay\\'s exports. Despite the severity of the trade shocks, Uruguay\\'s financial indicators remained stabler than those of its neighbours, a reflection of its solid reputation among investors and its investment-grade sovereign bond rating â\\x80\\x94 one of only two in South America.  About.com: Go South America, based on information from the CIA World Factbook.  In recent years Uruguay has shifted some of its energy into developing the commercial use of IT technologies and has become the first exporter of software in Latin America. Diego Stewart,  Building out: Uruguay exports architectural services to India and Latin America,\" in Latin Trade, May 2005. Retrieved August 11, 2007.', \"While some parts of the economy appeared to be resilient, the downturn had severe impact on the local population. Unemployment levels rose to more than 20%, real wages fell, the peso devalued. These worsening economic conditions played a part in turning public opinion against the mildly free market economic policies adopted by the previous administrations in the 1990s, leading to the popular rejection of proposals for privatization of the state petroleum company in 2003 and of the state water company in 2004. The newly elected Frente Amplio government, while pledging to continue payments on Uruguay's external debt, Michael Fox,  Uruguay's Frente Amplio: From Revolution to Dilution, June 19, 2007. Retrieved August 11, 2007.   has also promised to undertake a Emergency Plan (See section:Social Problems Poverty and inequality) to attack the widespread problems of poverty and unemployment.   (See leaders, President Tabare Vazquez 'On taking office he announced a $100m emergency plan to help the poor '\", 'Agriculture played such an important part in Uruguayan history and national identity until the middle of the twentieth century that the entire country was then sometimes likened to a single huge estancia (agricultural estate) centred around Montevideo, where the wealth generated in the hinterland was spent, at its casco or administrative head.', 'A heartland of historic estancias: Estancia San Eugenio, CasupÃ¡, southern department of Florida.', 'Today, agriculture contributes roughly 10% to the countryâ\\x80\\x99s GDP and is still the main foreign exchange earner, putting Uruguay in line with other agricultural exporters like Brazil, Canada and New Zealand. Uruguay is a member of the Cairns Group of exporters of agricultural products. Uruguayâ\\x80\\x99s agriculture has relatively low inputs of labour, technology and capital in comparison with other such countries, which results in comparatively lower yields per hectare but also opens the door for Uruguay to market its products as \"natural\" or \"ecological.\"', 'Campaigns like â\\x80\\x9cUruguayan grass-fed beefâ\\x80\\x9d and â\\x80\\x9cUruguay Naturalâ\\x80\\x9d aim to establish Uruguay as a premium brand in beef, wine and other food products.', \"Recently, an industry has developed around estancia tourism which capitalizes on the traditional or folkloristic connotations associated with gaucho culture and the remaining resources of Uruguay's historic estancias.\", 'Approximately 88% of its population are of prevalently white European descent: Spaniards, followed closely by Italians, then French, Germans, Portuguese, British, Swiss, Russians, Poles, Bulgarians, Hungarians, Ukrainians, Lithuanians, Estonians, Latvians, Dutch, Belgians, Croatians, Greeks, Scandinavians, Irish, and Armenians. 0.8% are Mestizo, and', 'the remaining are from Afro-Latin American ancestry.   /ref>', '  INE, (in Spanish)', 'Many of the European immigrants arrived in Uruguay in the late 1800s and have heavily influenced the architecture and culture of Montevideo and other major cities. For this reason, Montevideo and life within the city are reminiscent of parts of Europe. For example Barcelona, Thessaloniki or Tel-Aviv are said to be similar to Montevideo in different aspects  /ref>', 'Some colonies such as Colonia Valdense -a Waldensian colony-, Colonia Suiza -also named Nueva Helvecia- a mainly Swiss colony with some German and Austrian settlers, were founded in the department of Colonia. There are also towns founded by early British settlers, like Conchillas and Barker. A Russian colony called San Javier was found in the department of RÃ\\xado Negro. Mennonite colonies can also be found in the department of RÃ\\xado Negro and in the department of Canelones. One of them, called El OmbÃº, is famous for its well-known Dulce de Leche \"Claldy\", and is located near the city of Young.', 'Uruguay has a large urban middle class, and literacy rate of 96.79% (1996 est),   /ref>. During the 1970s and 1980s, an estimated 600,000 Uruguayans emigrated, mainly to Spain, Italy, Argentina and Brazil. Other Uruguayans went to various countries in Europe, to the USA and Australia.', 'The birth rate is 16.73 births/1000 population.  and Brazil (16.56 births/1,000 population).  /ref>', \"Uruguay's oldest church is in San Carlos, Maldonado.\", 'Church and state are officially separated since approximately 1916. Most Uruguayans adhere to the Roman Catholic faith (62%), with smaller Protestant (4%) and Jewish (3%), as well as a large nonprofessing group (31%).', 'Although the majority of Uruguayans do not actively practice a religion, they are nominally church members in the Catholic, Protestant and Jewish communities. It is widely considered the most secular nation in Latin America.', 'According to data published by the United Nations, the Gini index for Uruguay equals to 44.8 in 2003, where 100 stands for maximum inequality and 0 for even distribution of the wealth between the population.', 'A recent report compiled and published by the National Statistics Institute      (Instituto Nacional de Estadistica) of Uruguay used 2 indicators to estimate the number of people living in poverty in the country.', '*Indigence line: income of the family is not enough for the basic food consumption.', '*Poverty line: income of the family is not enough for food consumption, clothing, health and transport.', 'The numbers obtained depends according with the methodology used, the inform uses 3 different  methods. According to the one proposed by the Regional Workshop about poverty measurement in 1996, which produces the highest values of all, the results for the first quarter of 2006 are:', 'Population below Indigence line: 3.01%', 'Population below Poverty line:   18%', 'The reports shows the indicators are improving as the country is recovering from the last 2002 crisis; in 2004, poverty indicators reached an all time high.   /ref>', 'A new ministry of Social Development was created by the Broad Front (Uruguay) (Frente Amplio) government led by Tabare Vazquez, and an Emergency plan which targets the less favoured 200.000 Uruguayans.', 'The average income of a woman in 2002 in Uruguay was 71.8% of the income of men for the same activity.  /ref> The average income of African heritage workers is 65% of that of those of European heritage.  /ref>', 'Montevideo, capital of the country. A view of pedestrian street in the Ciudad Vieja, former Spanish citadel', 'Although rents in neighborhoods not in high demand are not very expensive in Uruguay, it is usually required to have another property as a warranty for the contract, or leave a deposit which many can not afford.', 'This first condition makes renting a property especially difficult for the least favoured sectors of the population. According to the INE 23, 3% of the population lives in a place neither owned nor rented. Some of them are proper built houses, but others are precarious constructions built illegally in public or private empty land just outside the cities. Thus, whole new poor neighborhoods have emerged in the last decades. They are called Asentamientos or more colloquially Cantegriles in ironic allusion to the fashionable Neighborhood of Cantegril in Punta del Este. ', 'The phenomena is similar to the Favelas in Brazil, ', 'Villas Miseria in Argentina, Barrios in Venezuela, Arrabales in Spain, Poblaciones Callampa in Chile or Jacales in Mexico.', \"The main sport in Uruguay is football. The Uruguay national football team is one of only five nations to win the FIFA World Cup on two or more occasions. In 1930, Uruguay hosted the first ever World Cup and went on to win the competition, defeating Argentina 4-2 in the final. Uruguay won the 1950 FIFA World Cup as well, famously defeating the favored hosts, Brazil, 2-1 in the final. Uruguay is by far the smallest country, population wise, to win a World Cup. Out of the World Cup winners, the nation with the second smallest population is Argentina (winners of the 1978 and 1986 editions) who currently have just over 40,000,000 people according to the latest estimate; the 2002 census has Uruguay's current population slightly under 3,400,000. The Uruguay national team has also won the Copa AmÃ©rica 14 different times, a record it shares with Argentina.\", 'Basketball, rugby union, and tennis are other popular sports in Uruguay.', ';Political and economic rankings', ';Health rankings', ';Other rankings', 'Michael Faraday, FRS (September 22, 1791 â\\x80\\x93 August 25, 1867) was an English chemist and physicist (or natural philosopher, in the terminology of that time) who contributed to the fields of electromagnetism and electrochemistry.', 'Faraday studied the magnetic field around a conductor carrying a DC electric current, and established the basis for the magnetic field concept in physics. He discovered electromagnetic induction, diamagnetism and electrolysis. He established that magnetism could affect rays of light and that there was an underlying relationship between the two phenomena.  Michael Faraday entry at the 1911 Encyclopaedia Britannica hosted by LovetoKnow Retrieved January 2007.   Institution of Engineering and Technology, London Archives, Michael Faraday  His inventions of electromagnetic rotary devices formed the foundation of electric motor technology, and it was largely due to his efforts that electricity became viable for use in technology.', 'As a chemist, Faraday discovered benzene, investigated the clathrate hydrate of chlorine, invented an early form of the bunsen burner and the system of oxidation numbers, and popularized terminology such as anode, cathode, electrode, and ion.', 'Although Faraday received little formal education and knew little of higher mathematics, such as calculus, he was one of the most influential scientists in history. Some historians    of science refer to him as the best experimentalist in the history of science.  \"best experimentalist in the history of science.\" Quoting Dr Peter Ford, from the University of Bathâ\\x80\\x99s Department of Physics. Accessed January 2007.  The SI unit of capacitance, the farad, is named after him, as is the Faraday constant, the charge on a mole of electrons (about 96,485 coulombs).  Faraday\\'s law of induction states that a magnetic field changing in time creates a proportional electromotive force.', 'Faraday was the first and foremost Fullerian Professor of Chemistry at the Royal Institution of Great Britain, a position to which he was appointed for life.', 'Michael Faraday from a photograph by John Watkins, British Library', 'Michael Faraday was born in Newington Butts, near present-day South London, England. His family was not well off. His father, James, was a member of the Sandemanian sect of Christianity. James Faraday had come to London ca 1790 from Outhgill in Westmorland, where he had been the village blacksmith. The young Michael Faraday, one of four children, having only the most basic of school educations, had to largely educate himself. \"Michael Faraday.\"  History of Science and Technology. Houghton Mifflin Company, 2004. Answers.com 4 June 2007.  /ref> At fourteen he became apprenticed to a local bookbinder and bookseller George Riebau and, during his seven-year apprenticeship, he read many books, including Isaac Watts\\' The Improvement of the Mind, and he enthusiastically implemented the principles and suggestions contained therein. He developed an interest in science and specifically in electricity. In particular, he was inspired by the book Conversations in Chemistry by Jane Marcet.', \"At the age of twenty, in 1812, at the end of his apprenticeship, Faraday attended lectures by the eminent English chemist and physicist Humphry Davy of the Royal Institution and Royal Society, and John Tatum, founder of the City Philosophical Society. Many tickets for these lectures were given to Faraday by William Dance (one of the founders of the Royal Philharmonic Society). Afterwards, Faraday sent Davy a three hundred page book based on notes taken during the lectures. Davy's reply was immediate, kind, and favorable. When Davy damaged his eyesight in an accident with nitrogen trichloride, he decided to employ Faraday as a secretary. When John Payne, one of the Royal Institution's assistants, was fired, Sir Humphry Davy was asked to find a replacement. He appointed Faraday as Chemical Assistant at the Royal Institution on March 1.\", \"In the class-based English society of the time, Faraday was not considered a gentleman. When Davy went on a long tour to the continent in 1813-5, his valet did not wish to go. Faraday was going as Davy's scientific assistant, and was asked to act as Davy's valet until a replacement could be found in Paris. Davy failed to find a replacement, and Faraday was forced to fill the role of valet as well as assistant throughout the trip. Davy's wife, Jane Apreece, refused to treat Faraday as an equal (making him travel outside the coach, eat with the servants, etc.) and generally made Faraday so miserable that he contemplated returning to England alone and giving up science altogether. The trip did, however, give him access to the European scientific elite and a host of stimulating ideas.\", \"His sponsor and mentor was John 'Mad Jack' Fuller, who created the Fullerian Professorship of Chemistry at the Royal Institution.\", \"Faraday was a devout Christian and a member of the small Sandemanian denomination, an offshoot of the Church of Scotland. He later served two terms as an elder in the group's church.\", 'Faraday married Sarah Barnard (1800-1879) on June 2, 1821, although they would never have children. They met through attending the Sandemanian church.', 'He was elected a member of the Royal Society in 1824, appointed director of the laboratory in 1825; and in 1833 he was appointed Fullerian professor of chemistry in the institution for life, without the obligation to deliver lectures.', 'The title page of The Chemical History of a Candle (1861)', \"Faraday's earliest chemical work was as an assistant to Davy. He made a special study of chlorine, and discovered two new chlorides of carbon. He also made the first rough experiments on the diffusion of gases, a phenomenon first pointed out by John Dalton, the physical importance of which was more fully brought to light by Thomas Graham and Joseph Loschmidt. He succeeded in liquefying several gases; he investigated the alloys of steel, and produced several new kinds of glass intended for optical purposes. A specimen of one of these heavy glasses afterwards became historically important as the substance in which Faraday detected the rotation of the plane of polarisation of light when the glass was placed in a magnetic field, and also as the substance which was first repelled by the poles of the magnet. He also endeavoured, with some success, to make the general methods of chemistry, as distinguished from its results, the subject of special study and of popular exposition.\", \"He invented an early form of what was to become the Bunsen burner, which is used almost universally in science laboratories as a convenient source of heat.    See page 127 of Faraday's Chemical Manipulation, Being Instructions to Students in Chemistry (1827)\", 'Faraday worked extensively in the field of chemistry, discovering chemical substances such as benzene (which he called bicarburet of hydrogen), inventing the system of oxidation numbers, and liquefying gases such as chlorine. In 1820 Faraday reported on the first syntheses of compounds made from carbon and chlorine, C 2 H 6  and C 2 H 4 , and published his results the following year.          Faraday also determined the composition of the chlorine clathrate hydrate, which had been discovered by Humphry Davy in 1810.', 'Faraday also discovered the laws of electrolysis and popularized terminology such as anode, cathode, electrode, and ion, terms largely created by William Whewell.', 'Faraday was the first to report what later came to be called metallic nanoparticles. In 1847 he discovered that the optical properties of gold colloids differed from those of the corresponding bulk metal. This was probably the first reported observation of the effects of quantum size, and might be considered to be the birth of nanoscience.', \"Faraday's greatest work was probably with electricity and magnetism. The first experiment which he recorded was the construction of a voltaic pile with seven halfpence pieces, stacked together with seven disks of sheet zinc, and six pieces of paper moistened with salt water. With this pile he decomposed sulphate of magnesia (first letter to Abbott, July 12, 1812).\", '[[Image:Faraday photograph ii.jpg|thumb|200px|left|Michael Faraday holding a glass bar of the type he used in 1845 to show that magnetism can affect light.  Detail of an engraving by Henry Adlard, based on an earlier photograph by Maull & Polyblank ca. 1857.   See  National Portrait Gallery, UK  ]]', 'In 1821, soon after the Danish physicist and chemist, Hans Christian Ã\\x98rsted discovered the phenomenon of electromagnetism, Davy and British scientist William Hyde Wollaston tried but failed to design an electric motor.  Faraday, having discussed the problem with the two men, went on to build two devices to produce what he called electromagnetic rotation: a continuous circular motion from the circular magnetic force around a wire and a wire extending into a pool of mercury with a magnet placed inside would rotate around the magnet if supplied with current from a chemical battery. The latter device is known as a homopolar motor. These experiments and inventions form the foundation of modern electromagnetic technology. Faraday published his results without acknowledging his debt to Wollaston and Davy, and the resulting controversy caused Faraday to withdraw from electromagnetic research for several years.', \"At this stage, there is also evidence to suggest that Davy may have been trying to slow Faradayâ\\x80\\x99s rise as a scientist (or natural philosopher as it was known then). In 1825, for instance, Davy set him onto optical glass experiments, which progressed for six years with no great results. It was not until Davy's death, in 1829, that Faraday stopped these fruitless tasks and moved on to endeavors that were more worthwhile. Two years later, in 1831, he began his great series of experiments in which he discovered electromagnetic induction. Joseph Henry likely discovered self-induction a few months earlier and both may have been anticipated by the work of Francesco Zantedeschi in Italy in 1829 and 1830.\", \"Faraday's breakthrough came when he wrapped two insulated coils of wire around a massive iron ring, bolted to a chair, and found that upon passing a current through one coil, a momentary current was induced in the other coil.   This phenomenon is known as mutual induction. The iron ring-coil apparatus is still on display at the Royal Institution. In subsequent experiments he found that if he moved a magnet through a loop of wire, an electric current flowed in the wire. The current also flowed if the loop was moved over a stationary magnet. His demonstrations established that a changing magnetic field produces an electric field. This relation was mathematically modelled by Faraday's law, which subsequently became one of the four Maxwell equations. These in turn have evolved into the generalization known today as field theory.\", 'Michael Faraday - statue in Savoy Place, London.', 'Sculptor John Henry Foley RA', 'Faraday later used the principle to construct the electric dynamo, the ancestor of modern power generators.', 'In 1839 he completed a series of experiments aimed at investigating the fundamental nature of electricity. Faraday used \"static\",  batteries, and \"animal electricity\" to produce the phenomena of electrostatic attraction, electrolysis, magnetism, etc. He concluded that, contrary to scientific opinion of the time, the divisions between the various \"kinds\" of electricity were illusory. Faraday instead proposed that only a single \"electricity\" exists, and the changing values of quantity and intensity (voltage and charge) would produce different groups of phenomena.', \"Near the end of his career Faraday proposed that electromagnetic forces extended into the empty space around the conductor. This idea was rejected by his fellow scientists, and Faraday did not live to see this idea eventually accepted. Faraday's concept of lines of flux emanating from charged bodies and magnets provided a way to visualize electric and magnetic fields. That mental model was crucial to the successful development of electromechanical devices which dominated engineering and industry for the remainder of the 19th century.\", 'In 1845, he discovered the phenomenon that he named diamagnetism, and what is now called the Faraday effect: The plane of polarization of linearly polarized light propagated through a material medium can be rotated by the application of an external magnetic field aligned in the propagation direction. He wrote in his notebook, \"I have at last succeeded in illuminating a magnetic curve or line of force and in magnetising a ray of light\". This established that magnetic force and light were related.', 'In his work on static electricity, Faraday demonstrated that the charge only resided on the exterior of a charged conductor, and exterior charge had no influence on anything enclosed within a conductor. This is because the exterior charges redistribute such that the interior fields due to them cancel. This shielding effect is used in what is now known as a Faraday cage.', 'Faraday was an excellent experimentalist who conveyed his ideas in clear and simple language. However, his mathematical abilities did not extend as far as trigonometry or any but the simplest algebra. It was James Clerk Maxwell who took the work of Faraday, and others, and consolidated it with a set of equations that lie at the base of all modern theories of electromagnetic phenomena.', 'Michael Faraday meets Father Thames, from Punch (July 21, 1855)', 'Beyond his scientific research into areas such as chemistry, electricity, and magnetism at the Royal Institution, Faraday undertook numerous, and often time-consuming, service projects for private enterprise and the British government. This work included investigations of explosions in mines, being an expert witness in court, and the preparation of high-quality optical glass.', 'As a respected scientist in a nation with strong maritime interests, Faraday spent extensive amounts of time on projects such as the construction and operation of light houses and protecting the bottoms of ships from corrosion.', 'Faraday also was active in what would now be called environmental science, or engineering. He investigated industrial pollution at Swansea and was consulted on air pollution at the Royal Mint. In July of 1855, Faraday wrote a letter to The Times on the subject of the foul condition of the River Thames, which resulted in an oft-reprinted cartoon in Punch.  (See also The Great Stink.)', 'Faraday assisted with planning and judging of exhibits for the Great Exhibition of 1851 in London. He also advised the National Gallery on the cleaning and protection of its art collection, and served on the National Gallery Site Commission in 1857.', \"Education was another area of service for Faraday. He lectured on the topic in 1854 at the Royal Institution, and in 1862 he appeared before a Public Schools Commission to give his views on education in Great Britain. Faraday also weighed in, negatively, on the public's fascination with table-turning, mesmerism, and seances, chastising both the public and the nation's educational system. See The Illustrated London News, July 1853, for Faraday's comments.\", '125px', 'In June of 1832, the University of Oxford granted Faraday a Doctor of Civil Law degree (honorary). During his lifetime, Faraday rejected a knighthood and twice refused to become President of the Royal Society.', \"In 1848, as a result of representations by the Prince Consort, Michael Faraday was awarded a grace and favour house in  Hampton Court, Surrey free of all expenses or upkeep. This was the Master Mason's House, later called Faraday House, and now No.37 Hampton Court Road. In 1858 Faraday retired to live there.   Twickenham Museum on Faraday and Faraday House, Accessed June 2006\", \"Faraday died at his house at Hampton Court on August 25, 1867. He turned down burial in Westminster Abbey, but he has a memorial plaque there, near Isaac Newton's tomb. Faraday was interred in the Sandemanian plot in Highgate Cemetery.\", \"Michael Faraday's grave at Highgate Cemetery\", 'Faraday gave a successful series of lectures on the chemistry and physics of flames at the Royal Institution, entitled The Chemical History of a Candle. This was one of the earlier Christmas lectures for young people, which are still given each year. Between 1827 and 1860, Faraday gave the Christmas lecture a record nineteen times.', 'Faraday refused to participate in the production of chemical weapons for the Crimean War citing ethical reasons.', 'A statue of Faraday stands in Savoy Place, London, outside the Institution of Electrical Engineers.', 'A recently built hall of accommodation at Brunel University is named after Faraday.', \"A hall at Loughborough University was named after Faraday in 1960. Near the entrance to its dining hall is a bronze casting, which depicts the symbol of an electrical transformer, and inside there hangs a portrait, both in Faraday's honour.\", \"Faraday's picture was printed on British Â£20 banknotes from 1991 until 2001.  Bank of England, Withdrawn Notes\", 'In the video game Chromehounds there is a ThermoVision Device named the Faraday.', 'The former UK Faraday Atmospheric Research Station in Antarctica was named after him.', 'Faraday was one of the then eight foreign members of the French Academy of Sciences.', \"Michael Faraday's signature\", \"Faraday's books, with the exception of Chemical Manipulation, were collections of scientific papers or transcriptions of lectures. See page 220 of Hamilton's A Life of Discovery: Michael Faraday, Giant of the Scientific Revolution (2002)   Since his death, Faraday's diary has been published, as have several large volumes of his letters and Faraday's journal from his travels with Davy in 1813 - 1815.\", '* \"One day sir, you may tax it.\" Faraday\\'s reply to William Gladstone, then British Minister of Finance, when asked of the practical value of electricity.', '* \"If you would cause your view ... to be acknowledged by scientific men; you would do a great service to science. If you would even get them to say yes or no to your conclusions it would help to clear the future progress. I believe some hesitate because they do not like their thoughts disturbed.\" From Life and Letters, 2:389.', '* Tyndall, John, Faraday as a Discoverer, (Longmans, 1st ed. 1868, 2nd ed. 1870).', '* Bence Jones, Henry (1870). The Life and Letters of Faraday in 2 vols, Longmans.', '* Gladstone, J. H. (1872). Michael Faraday, Macmillan.', '* The British Electrical and Allied Manufacturers Association (1931). Faraday. R. & R. Clark, Ltd., Edinburgh, 1931.', '* Williams, L. Pearce (1971), Faraday: A Biography, Simon and Schuster. ', '* Agassi, Joseph (1971), Faraday as a Natural Philosopher, Chicago: University of Chicago Press.', '150px', '* \"Faraday\" at LoveToKnow 1911 Britannica Online Encyclopedia. ', '* \"Experimental Researches in Electricity\" by Michael Faraday Original text with Biographical Introduction by Professor John Tyndall, 1914, Everyman edition.', 'Anders Celsius', 'The observatory of Anders Celsius, from a contemporary engraving.', 'Anders Celsius (November 27, 1701   April 25, 1744) was a Swedish astronomer.', 'Celsius was born in Uppsala in Sweden. He was professor of astronomy at Uppsala University from 1730 to 1744, but traveled from 1732 to 1735 visiting notable observatories in Germany, Italy and France.', 'At Nuremberg in 1733 he published a collection of 316 observations of the aurora borealis made by himself and others over the period 1716-1732. In Paris he advocated the measurement of an arc of the meridian in Lapland, and in 1736 took part in the expedition organized for that purpose by the French Academy of Sciences, led by the French mathematician Pierre Louis Maupertuis.', \"Celsius founded the Uppsala Astronomical Observatory in 1741, and in 1742 he proposed the Celsius temperature scale in a paper to the Royal Swedish Academy of Sciences. His thermometer had 100 for the freezing point of water and 0 for the boiling point. The scale was reversed by Carolus Linnaeus in 1745, to how it is today  Linnaeus' thermometer .\", 'Anders Celsius was the first to perform and publish careful experiments aiming at the definition of an international temperature scale on scientific grounds. In his Swedish paper \"Observations of two persistent degrees on a thermometer\" he reports on experiments to check that the freezing point is independent of latitude (and of atmospheric pressure). He determined the dependence of the boiling of water with atmospheric pressure (in excellent agreement with modern data). He further gave a rule for the determination of the boiling point if the barometric pressure deviates from a certain standard pressure  History of the Celsius temperature scale .', 'In 1744 he died of tuberculosis in Uppsala, and was buried in the Old Uppsala Church.', 'The Celsius crater on the Moon is named after him.', \"Millard Fillmore (January 7, 1800   March 8, 1874) was the thirteenth President of the United States, serving from 1850 until 1853, and the last member of the Whig Party to hold that office. He was the second Vice President to assume the Presidency upon the death of a sitting President, succeeding Zachary Taylor who died of acute gastroenteritis. Fillmore was never elected President; after serving out Taylor's term, he failed to gain the nomination for the Presidency of the Whigs in the 1852 presidential election, and, four years later, in the 1856 presidential election, he again failed to win election as President as the Know Nothing Party and Whig candidate.\", 'Fillmore was born in a log cabin in Summerhill, New York, to Nathaniel and Phoebe Millard Fillmore, as the second of nine children and the eldest son.    Though a Unitarian in later life,   ', \"Fillmore was descended from Scottish Presbyterians on his father's side and English dissenters on his mother's. He was first apprenticed to a fuller to learn the cloth-making trade. He also served as a home guard in the New York militia for some time. He struggled to obtain an education under frontier conditions, attending New Hope Academy for six months.\", \"He fell in love with Abigail Powers, whom he later married on February 26, 1826. The couple had two children, Millard Powers Fillmore and Mary Abigail Fillmore. Later, Fillmore bought out his apprenticeship and moved to Buffalo, New York, to continue his studies. He was admitted to the bar in 1823 and began his law practice in East Aurora. In 1834, he formed a law partnership, Fillmore and Hall (becoming Fillmore, Hall and Haven in 1836), with his good friend Nathan K. Hall (who would later serve in his cabinet as Postmaster General).      It would become one of western New York's most prestigious firms.   \", 'In 1846, he founded the private University of Buffalo, which today is the public State University of New York at Buffalo (UB, University at Buffalo), the largest school in the New York state university system.', 'Engraving of Millard FillmoreIn 1828, Fillmore was elected to the New York State Assembly on the Anti-Masonic ticket, serving for one term, from 1829 to 1831. He was later elected as a Whig (having followed his mentor Thurlow Weed into the party) to the 23rd Congress in 1832, serving from 1833 to 1835. He was re-elected in 1836 to the 25th Congress, to the 26th and to the 27th Congresses and serving from in total from 1833 to 1843, declining to be a candidate for re-nomination in 1842.', 'In Congress, he opposed the entrance of Texas as a slave territory.  He came in second place in the bid for Speaker of the House of Representatives in 1841. He served as chairman of the House Ways and Means Committee from 1841 to 1843 and was an author of the Tariff of 1842, as well as two other bills that President John Tyler vetoed.', \"After leaving Congress, Fillmore was the unsuccessful Whig candidate for Governor of New York in 1844. He served as New York State Comptroller from 1847 to 1849. As state comptroller, he revised New York's banking system, making it a model for the future National Banking System.\", 'At the Whig national convention in 1848, the nomination of Gen. Zachary Taylor for president angered the supporters of Henry Clay as well as the opponents of slavery extension into the territory gained by the U.S.-Mexican War. A group of practical Whig politicians nominated Fillmore for vice president, believing that he would heal party wounds and help the ticket carry New York state.', \"Taylor/Fillmore campaign posterHaving worked his way up through the Whig Party in New York, Fillmore was selected as Taylor's running mate. (It was thought that the obscure, self-made candidate from New York would complement Taylor, a slave-holding military man from the south.)\", \"Fillmore was also selected in part to block New York state machine boss Thurlow Weed from receiving the vice presidential nomination (and his front man William H. Seward from receiving a position in Taylor's cabinet). Weed ultimately got Seward elected to the senate. This competition between Seward and Fillmore led to Seward's becoming a more vocal part of cabinet meetings and having more of a voice than Fillmore in advising the administration. The battle would continue even after Taylor's death.\", 'Taylor and Fillmore disagreed on the slavery issue in the new western territories taken from Mexico in the Mexican-American War. Taylor wanted the new states to be free states, while Fillmore supported slavery in those states as a means of appeasing the South. In his own words: \"God knows that I detest slavery, but it is an existing evil ... and we must endure it and give it such protection as is guaranteed by the Constitution.\"', \"Fillmore presided over the Senate during the months of nerve-wracking debates over the Compromise of 1850. During one debate, Senator Henry S. Foote of Mississippi pulled a pistol on Senator Thomas Hart Benton of Missouri. Fillmore made no public comment on the merits of the compromise proposals, but a few days before President Taylor's death, Fillmore suggested to the president that, should there be a tie vote on Henry Clay's bill, he would vote in favor of the North.\", \"Official White House portrait of Millard FillmoreFillmore ascended to the presidency upon the sudden and unexpected death of President Taylor in July 1850.  The change in leadership also signaled an abrupt political shift in the administration, as Fillmore removed Taylor's entire cabinet, replacing them with individuals known to be favorable to the Compromise efforts.  Fillmore signaled this shift by appointing Daniel Webster as his Secretary of State.\", 'As president, Fillmore dealt with increasing party divisions within the Whig party; party harmony became one of his primary objectives. He tried to unite the party by pointing out the differences between the Whigs and the Democrats (by proposing tariff reforms that negatively reflected on the Democratic Party). Another primary objective of Fillmore was to preserve the Union from the intensifying slavery debate.', \"Henry Clay's proposed bill to admit California to the Union still aroused all the violent arguments for and against the extension of slavery without any progress toward settling the major issues (the South continued to threaten secession). Fillmore recognized that Clay's plan was the best way to end the sectional crisis (California free state, harsher fugitive slave law, abolish slave trade in DC).  Clay, exhausted, left Washington to recuperate, passing leadership to Senator Stephen A. Douglas of Illinois. At this critical juncture, President Fillmore announced his support of the Compromise of 1850.\", 'On August 6, 1850, he sent a message to Congress recommending that Texas be paid to abandon its claims to part of New Mexico. This helped shift a critical number of northern Whigs in Congress away from their insistence upon the Wilmot Proviso-â\\x80\\x94the stipulation that all land gained by the Mexican War must be closed to slavery.', \"Douglas's effective strategy in Congress combined with Fillmore's pressure gave impetus to the Compromise movement. Breaking up Clay's single legislative package, Douglas presented five separate bills to the Senate: \", '*Admit California as a free state. ', '*Settle the Texas boundary and compensate the state for lost lands. ', '*Grant territorial status to New Mexico. ', '*Place federal officers at the disposal of slaveholders seeking escapeesâ\\x80\\x94the Fugitive Slave Act.', '*Abolish the slave trade in the District of Columbia.', 'Each measure obtained a majority, and, by September 20, President Fillmore had signed them into law. Webster wrote, \"I can now sleep of nights.\"', 'Portrait of Millard FillmoreWhigs on both sides refused to accept the finality of Fillmore\\'s law (which led to more party division, and a loss of numerous elections), which forced Northern Whigs to say \"God Save us from Whig Vice Presidents.\"', \"Fillmore's greatest difficulty with the fugitive slave law was how to enforce it without seeming to show favor towards Southern Whigs. His solution was to appease both northern and southern Whigs by calling for the enforcement of the fugitive slave law in the North, and enforcing in the South a law forbidding involvement in Cuba (for the sole purpose of adding it as a slave state).\", \"Another issue that presented itself during Fillmore's presidency was the arrival of Louis Kossuth (exiled leader of a failed Hungarian revolution). Kossuth wanted the United States to abandon its non-intervention policies when it came to European affairs and recognize Hungaryâ\\x80\\x99s independence. The problem came with the enormous support Kossuth received from German-American immigrants to the United States (who were essential in the re-election of both Whigs and Democrats). Fillmore refused to change American policy, and decided to remain neutral despite the political implications that neutrality would produce.\", \"Another important legacy of Fillmore's administration was the sending of Commodore Matthew C. Perry to open Japan to Western trade, though Perry did not reach Japan until Franklin Pierce had replaced Fillmore as president.\", 'Fillmore appointed the following Justices to the Supreme Court of the United States:', 'Some northern Whigs remained irreconcilable, refusing to forgive Fillmore for having signed the Fugitive Slave Act. They helped deprive him of the Presidential nomination in 1852. Within a few years it was apparent that although the Compromise had been intended to settle the slavery controversy, it served rather as an uneasy sectional truce.', 'Because the Whig party was so deeply divided, and the two leading candidates for the Whig party (Webster and Fillmore) refused to combine to secure the nomination, Winfield Scott received it. Because both the north and the south refused to unite behind Scott, he won only 4 of 31 states, and lost the election to Franklin Pierce.', \"After Fillmore's defeat the Whig party continued its downward spiral with further party division coming at the hands of the Kansas Nebraska Act, and the emergence of the Know Nothing party.\", 'Statue of Fillmore outside City Hall in downtown Buffalo, New York.', 'Fillmore was one of the founders of the University of Buffalo. The school was chartered by an act of the New York State Legislature on May 11, 1846, and at first was only a medical school.  Fillmore was the first Chancellor, a position he maintained while both Vice President and President.  Upon completing his presidency, Fillmore returned to Buffalo, where he continued to serve as chancellor.', 'After the death of his daughter Mary, Fillmore went abroad. While touring Europe in 1855, Fillmore was offered an honorary Doctor of Civil Law (D.C.L.) degree by the University of Oxford.  Fillmore turned down the honor, explaining that he had neither the \"literary nor scientific attainment\" to justify the degree.  He is also quoted as having explained that he \"lacked the benefit of a classical education\" and could not, therefore, understand the Latin text of the diploma, then joking that he believed \"no man should accept a degree he cannot read.\"', \"Fillmore/Donelson campaign poster.By 1856, Fillmore's Whig Party had ceased to exist, having fallen apart due to dissension over the slavery issue, and especially the Kansas-Nebraska Act of 1854.  Fillmore refused to join the new Republican Party, where many former Whigs, including Abraham Lincoln, had found refuge.  Instead, Fillmore joined the anti-immigrant, anti-Catholic American Party, the political organ of the Know-Nothing movement.\", \"He ran in the election of 1856 as the party's candidate, attempting to win a non-consecutive second term as President (a feat accomplished only once in American politics, by Grover Cleveland).  His running mate was Andrew Jackson Donelson, nephew of former president Andrew Jackson. Fillmore and Donelson finished third, carrying only the state of Maryland and its eight electoral votes; but he won 21.6% of the popular vote, one of the best showings ever by a Presidential third-party candidate.\", 'On February 10, 1858, after the death of his first wife, Fillmore married Caroline McIntosh, a wealthy widow. Their combined wealth allowed them to purchase a big house in Buffalo, New York. The house became the center of hospitality for visitors, until her health began to decline in the 1860s.', 'Throughout the Civil War, Fillmore opposed President Lincoln and during Reconstruction supported President Johnson. He commanded the Union Continentals, a corps of home guards of males over the age of 45 from the Upstate New York area, during the Civil War.', 'He died at 11:10 p.m. on March 8, 1874, of the after-effects of a stroke.  His last words were alleged to be, upon being fed some soup, \"the nourishment is palatable.\"  On January 7 each year, a ceremony is held at his grave site in the Forest Lawn Cemetery in Buffalo.', '*The 80s sitcom Head of the Class took place at the fictional \"Millard Fillmore High School\".', '*ESPN anchor Neil Everett often makes references to Millard Fillmore while hosting Sportscenter.', '*The comic strip Mallard Fillmore is named after the president.', \"*In 2007, George Pendle wrote The Remarkable Millard Fillmore, a fake biography based on real events that happened in Fillmore's life. Pendle mixes such imagined events as Fillmore fighting at the Battle of the Alamo with equally improbable, but actually true events, such as the fact that Fillmore's great-grandfather, John Fillmore, was abducted by pirates, organized a mutiny aboard the pirate ship, and killed the pirate captain, before sailing the ship back into Boston harbor.\", '*In one episode in American Dragon, the statue of Millard Fillmore was shown to the parents in a parent-teacher meeting by Professor Rokwood.', '*In an episode of Johnny Bravo, Johnny (in a partially delirious state) speaks to a statue of Millard Filmore.', 'Millard Fillmore postage stamp', '*In 1855, Fillmore, who had no classical education, refused an honorary doctorate of civil law from Oxford University claiming that he would not accept a degree he could not read.  It should be noted that most university diplomas were inscribed in Latin in those days. ', \"*Queen Victoria said that Millard Fillmore was the handsomest man she'd ever seen.\", '*Fillmore, a bookworm, found the White House devoid of books and initiated the White House library. ', '*As of 2007, Millard Fillmore remains the last U.S. president who was neither a Democrat nor a Republican (although Abraham Lincoln was re-elected in 1864 running on the National Union Party ticket with Democrat Andrew Johnson as his running mate).', \"*Fillmore was the first U.S. President born after the death of a former president, as he was born three weeks after George Washington's death on December 14, 1799.\"]\n"
          ]
        }
      ]
    },
    {
      "cell_type": "markdown",
      "source": [
        "#### EDA on Test Set"
      ],
      "metadata": {
        "id": "a0lpPOhaT-hh"
      }
    },
    {
      "cell_type": "markdown",
      "source": [
        "Checking Original Dataset"
      ],
      "metadata": {
        "id": "AAHEAA9CUws2"
      }
    },
    {
      "cell_type": "code",
      "source": [
        "dataset_qa"
      ],
      "metadata": {
        "colab": {
          "base_uri": "https://localhost:8080/"
        },
        "id": "eygjryiiUynT",
        "outputId": "74bd18a2-e42c-4967-ef0a-a3d6010ae296"
      },
      "execution_count": 27,
      "outputs": [
        {
          "output_type": "execute_result",
          "data": {
            "text/plain": [
              "DatasetDict({\n",
              "    test: Dataset({\n",
              "        features: ['question', 'answer', 'id'],\n",
              "        num_rows: 918\n",
              "    })\n",
              "})"
            ]
          },
          "metadata": {},
          "execution_count": 27
        }
      ]
    },
    {
      "cell_type": "markdown",
      "source": [
        "Putting Dataset in the Dataframe"
      ],
      "metadata": {
        "id": "sELH2tB3Uzh8"
      }
    },
    {
      "cell_type": "code",
      "source": [
        "df_qa = pd.DataFrame.from_dict(dataset_qa['test'])"
      ],
      "metadata": {
        "id": "Bv_pR41_RsAK"
      },
      "execution_count": 14,
      "outputs": []
    },
    {
      "cell_type": "markdown",
      "source": [
        "Checking the Dataset"
      ],
      "metadata": {
        "id": "nFdcDvepS5gA"
      }
    },
    {
      "cell_type": "code",
      "source": [
        "df_qa.head()"
      ],
      "metadata": {
        "colab": {
          "base_uri": "https://localhost:8080/",
          "height": 206
        },
        "id": "xVgbUZnXR59G",
        "outputId": "8e96b026-1a23-4f42-fe8b-d00165850898"
      },
      "execution_count": 15,
      "outputs": [
        {
          "output_type": "execute_result",
          "data": {
            "text/plain": [
              "                                            question     answer  id\n",
              "0  Was Abraham Lincoln the sixteenth President of...        yes   0\n",
              "1  Did Lincoln sign the National Banking Act of 1...        yes   2\n",
              "2                   Did his mother die of pneumonia?         no   4\n",
              "3      How many long was Lincoln's formal education?  18 months   6\n",
              "4       When did Lincoln begin his political career?       1832   8"
            ],
            "text/html": [
              "\n",
              "  <div id=\"df-e3d36807-412d-4d10-bd69-041ef2f9212e\" class=\"colab-df-container\">\n",
              "    <div>\n",
              "<style scoped>\n",
              "    .dataframe tbody tr th:only-of-type {\n",
              "        vertical-align: middle;\n",
              "    }\n",
              "\n",
              "    .dataframe tbody tr th {\n",
              "        vertical-align: top;\n",
              "    }\n",
              "\n",
              "    .dataframe thead th {\n",
              "        text-align: right;\n",
              "    }\n",
              "</style>\n",
              "<table border=\"1\" class=\"dataframe\">\n",
              "  <thead>\n",
              "    <tr style=\"text-align: right;\">\n",
              "      <th></th>\n",
              "      <th>question</th>\n",
              "      <th>answer</th>\n",
              "      <th>id</th>\n",
              "    </tr>\n",
              "  </thead>\n",
              "  <tbody>\n",
              "    <tr>\n",
              "      <th>0</th>\n",
              "      <td>Was Abraham Lincoln the sixteenth President of...</td>\n",
              "      <td>yes</td>\n",
              "      <td>0</td>\n",
              "    </tr>\n",
              "    <tr>\n",
              "      <th>1</th>\n",
              "      <td>Did Lincoln sign the National Banking Act of 1...</td>\n",
              "      <td>yes</td>\n",
              "      <td>2</td>\n",
              "    </tr>\n",
              "    <tr>\n",
              "      <th>2</th>\n",
              "      <td>Did his mother die of pneumonia?</td>\n",
              "      <td>no</td>\n",
              "      <td>4</td>\n",
              "    </tr>\n",
              "    <tr>\n",
              "      <th>3</th>\n",
              "      <td>How many long was Lincoln's formal education?</td>\n",
              "      <td>18 months</td>\n",
              "      <td>6</td>\n",
              "    </tr>\n",
              "    <tr>\n",
              "      <th>4</th>\n",
              "      <td>When did Lincoln begin his political career?</td>\n",
              "      <td>1832</td>\n",
              "      <td>8</td>\n",
              "    </tr>\n",
              "  </tbody>\n",
              "</table>\n",
              "</div>\n",
              "    <div class=\"colab-df-buttons\">\n",
              "\n",
              "  <div class=\"colab-df-container\">\n",
              "    <button class=\"colab-df-convert\" onclick=\"convertToInteractive('df-e3d36807-412d-4d10-bd69-041ef2f9212e')\"\n",
              "            title=\"Convert this dataframe to an interactive table.\"\n",
              "            style=\"display:none;\">\n",
              "\n",
              "  <svg xmlns=\"http://www.w3.org/2000/svg\" height=\"24px\" viewBox=\"0 -960 960 960\">\n",
              "    <path d=\"M120-120v-720h720v720H120Zm60-500h600v-160H180v160Zm220 220h160v-160H400v160Zm0 220h160v-160H400v160ZM180-400h160v-160H180v160Zm440 0h160v-160H620v160ZM180-180h160v-160H180v160Zm440 0h160v-160H620v160Z\"/>\n",
              "  </svg>\n",
              "    </button>\n",
              "\n",
              "  <style>\n",
              "    .colab-df-container {\n",
              "      display:flex;\n",
              "      gap: 12px;\n",
              "    }\n",
              "\n",
              "    .colab-df-convert {\n",
              "      background-color: #E8F0FE;\n",
              "      border: none;\n",
              "      border-radius: 50%;\n",
              "      cursor: pointer;\n",
              "      display: none;\n",
              "      fill: #1967D2;\n",
              "      height: 32px;\n",
              "      padding: 0 0 0 0;\n",
              "      width: 32px;\n",
              "    }\n",
              "\n",
              "    .colab-df-convert:hover {\n",
              "      background-color: #E2EBFA;\n",
              "      box-shadow: 0px 1px 2px rgba(60, 64, 67, 0.3), 0px 1px 3px 1px rgba(60, 64, 67, 0.15);\n",
              "      fill: #174EA6;\n",
              "    }\n",
              "\n",
              "    .colab-df-buttons div {\n",
              "      margin-bottom: 4px;\n",
              "    }\n",
              "\n",
              "    [theme=dark] .colab-df-convert {\n",
              "      background-color: #3B4455;\n",
              "      fill: #D2E3FC;\n",
              "    }\n",
              "\n",
              "    [theme=dark] .colab-df-convert:hover {\n",
              "      background-color: #434B5C;\n",
              "      box-shadow: 0px 1px 3px 1px rgba(0, 0, 0, 0.15);\n",
              "      filter: drop-shadow(0px 1px 2px rgba(0, 0, 0, 0.3));\n",
              "      fill: #FFFFFF;\n",
              "    }\n",
              "  </style>\n",
              "\n",
              "    <script>\n",
              "      const buttonEl =\n",
              "        document.querySelector('#df-e3d36807-412d-4d10-bd69-041ef2f9212e button.colab-df-convert');\n",
              "      buttonEl.style.display =\n",
              "        google.colab.kernel.accessAllowed ? 'block' : 'none';\n",
              "\n",
              "      async function convertToInteractive(key) {\n",
              "        const element = document.querySelector('#df-e3d36807-412d-4d10-bd69-041ef2f9212e');\n",
              "        const dataTable =\n",
              "          await google.colab.kernel.invokeFunction('convertToInteractive',\n",
              "                                                    [key], {});\n",
              "        if (!dataTable) return;\n",
              "\n",
              "        const docLinkHtml = 'Like what you see? Visit the ' +\n",
              "          '<a target=\"_blank\" href=https://colab.research.google.com/notebooks/data_table.ipynb>data table notebook</a>'\n",
              "          + ' to learn more about interactive tables.';\n",
              "        element.innerHTML = '';\n",
              "        dataTable['output_type'] = 'display_data';\n",
              "        await google.colab.output.renderOutput(dataTable, element);\n",
              "        const docLink = document.createElement('div');\n",
              "        docLink.innerHTML = docLinkHtml;\n",
              "        element.appendChild(docLink);\n",
              "      }\n",
              "    </script>\n",
              "  </div>\n",
              "\n",
              "\n",
              "    <div id=\"df-6a46be58-87b8-42f5-9eb1-e850ed5501fa\">\n",
              "      <button class=\"colab-df-quickchart\" onclick=\"quickchart('df-6a46be58-87b8-42f5-9eb1-e850ed5501fa')\"\n",
              "                title=\"Suggest charts\"\n",
              "                style=\"display:none;\">\n",
              "\n",
              "<svg xmlns=\"http://www.w3.org/2000/svg\" height=\"24px\"viewBox=\"0 0 24 24\"\n",
              "     width=\"24px\">\n",
              "    <g>\n",
              "        <path d=\"M19 3H5c-1.1 0-2 .9-2 2v14c0 1.1.9 2 2 2h14c1.1 0 2-.9 2-2V5c0-1.1-.9-2-2-2zM9 17H7v-7h2v7zm4 0h-2V7h2v10zm4 0h-2v-4h2v4z\"/>\n",
              "    </g>\n",
              "</svg>\n",
              "      </button>\n",
              "\n",
              "<style>\n",
              "  .colab-df-quickchart {\n",
              "      --bg-color: #E8F0FE;\n",
              "      --fill-color: #1967D2;\n",
              "      --hover-bg-color: #E2EBFA;\n",
              "      --hover-fill-color: #174EA6;\n",
              "      --disabled-fill-color: #AAA;\n",
              "      --disabled-bg-color: #DDD;\n",
              "  }\n",
              "\n",
              "  [theme=dark] .colab-df-quickchart {\n",
              "      --bg-color: #3B4455;\n",
              "      --fill-color: #D2E3FC;\n",
              "      --hover-bg-color: #434B5C;\n",
              "      --hover-fill-color: #FFFFFF;\n",
              "      --disabled-bg-color: #3B4455;\n",
              "      --disabled-fill-color: #666;\n",
              "  }\n",
              "\n",
              "  .colab-df-quickchart {\n",
              "    background-color: var(--bg-color);\n",
              "    border: none;\n",
              "    border-radius: 50%;\n",
              "    cursor: pointer;\n",
              "    display: none;\n",
              "    fill: var(--fill-color);\n",
              "    height: 32px;\n",
              "    padding: 0;\n",
              "    width: 32px;\n",
              "  }\n",
              "\n",
              "  .colab-df-quickchart:hover {\n",
              "    background-color: var(--hover-bg-color);\n",
              "    box-shadow: 0 1px 2px rgba(60, 64, 67, 0.3), 0 1px 3px 1px rgba(60, 64, 67, 0.15);\n",
              "    fill: var(--button-hover-fill-color);\n",
              "  }\n",
              "\n",
              "  .colab-df-quickchart-complete:disabled,\n",
              "  .colab-df-quickchart-complete:disabled:hover {\n",
              "    background-color: var(--disabled-bg-color);\n",
              "    fill: var(--disabled-fill-color);\n",
              "    box-shadow: none;\n",
              "  }\n",
              "\n",
              "  .colab-df-spinner {\n",
              "    border: 2px solid var(--fill-color);\n",
              "    border-color: transparent;\n",
              "    border-bottom-color: var(--fill-color);\n",
              "    animation:\n",
              "      spin 1s steps(1) infinite;\n",
              "  }\n",
              "\n",
              "  @keyframes spin {\n",
              "    0% {\n",
              "      border-color: transparent;\n",
              "      border-bottom-color: var(--fill-color);\n",
              "      border-left-color: var(--fill-color);\n",
              "    }\n",
              "    20% {\n",
              "      border-color: transparent;\n",
              "      border-left-color: var(--fill-color);\n",
              "      border-top-color: var(--fill-color);\n",
              "    }\n",
              "    30% {\n",
              "      border-color: transparent;\n",
              "      border-left-color: var(--fill-color);\n",
              "      border-top-color: var(--fill-color);\n",
              "      border-right-color: var(--fill-color);\n",
              "    }\n",
              "    40% {\n",
              "      border-color: transparent;\n",
              "      border-right-color: var(--fill-color);\n",
              "      border-top-color: var(--fill-color);\n",
              "    }\n",
              "    60% {\n",
              "      border-color: transparent;\n",
              "      border-right-color: var(--fill-color);\n",
              "    }\n",
              "    80% {\n",
              "      border-color: transparent;\n",
              "      border-right-color: var(--fill-color);\n",
              "      border-bottom-color: var(--fill-color);\n",
              "    }\n",
              "    90% {\n",
              "      border-color: transparent;\n",
              "      border-bottom-color: var(--fill-color);\n",
              "    }\n",
              "  }\n",
              "</style>\n",
              "\n",
              "      <script>\n",
              "        async function quickchart(key) {\n",
              "          const quickchartButtonEl =\n",
              "            document.querySelector('#' + key + ' button');\n",
              "          quickchartButtonEl.disabled = true;  // To prevent multiple clicks.\n",
              "          quickchartButtonEl.classList.add('colab-df-spinner');\n",
              "          try {\n",
              "            const charts = await google.colab.kernel.invokeFunction(\n",
              "                'suggestCharts', [key], {});\n",
              "          } catch (error) {\n",
              "            console.error('Error during call to suggestCharts:', error);\n",
              "          }\n",
              "          quickchartButtonEl.classList.remove('colab-df-spinner');\n",
              "          quickchartButtonEl.classList.add('colab-df-quickchart-complete');\n",
              "        }\n",
              "        (() => {\n",
              "          let quickchartButtonEl =\n",
              "            document.querySelector('#df-6a46be58-87b8-42f5-9eb1-e850ed5501fa button');\n",
              "          quickchartButtonEl.style.display =\n",
              "            google.colab.kernel.accessAllowed ? 'block' : 'none';\n",
              "        })();\n",
              "      </script>\n",
              "    </div>\n",
              "\n",
              "    </div>\n",
              "  </div>\n"
            ],
            "application/vnd.google.colaboratory.intrinsic+json": {
              "type": "dataframe",
              "variable_name": "df_qa",
              "summary": "{\n  \"name\": \"df_qa\",\n  \"rows\": 918,\n  \"fields\": [\n    {\n      \"column\": \"question\",\n      \"properties\": {\n        \"dtype\": \"string\",\n        \"num_unique_values\": 918,\n        \"samples\": [\n          \"What is actually black in color?\",\n          \"When did he become a professor?\",\n          \"What does \\\"Era of Good Feelings\\\" refers to?\"\n        ],\n        \"semantic_type\": \"\",\n        \"description\": \"\"\n      }\n    },\n    {\n      \"column\": \"answer\",\n      \"properties\": {\n        \"dtype\": \"string\",\n        \"num_unique_values\": 499,\n        \"samples\": [\n          \"1856\",\n          \"The lands\",\n          \"Thomas Jefferson, Benjamin Franklin, Robert R. Livingston and Roger Sherman.\"\n        ],\n        \"semantic_type\": \"\",\n        \"description\": \"\"\n      }\n    },\n    {\n      \"column\": \"id\",\n      \"properties\": {\n        \"dtype\": \"number\",\n        \"std\": 484,\n        \"min\": 0,\n        \"max\": 1714,\n        \"num_unique_values\": 918,\n        \"samples\": [\n          1308,\n          89,\n          822\n        ],\n        \"semantic_type\": \"\",\n        \"description\": \"\"\n      }\n    }\n  ]\n}"
            }
          },
          "metadata": {},
          "execution_count": 15
        }
      ]
    },
    {
      "cell_type": "markdown",
      "source": [
        "Checking Test Datasets Unique Variables"
      ],
      "metadata": {
        "id": "odxk_AjHTorC"
      }
    },
    {
      "cell_type": "code",
      "source": [
        "df_qa.answer.value_counts()"
      ],
      "metadata": {
        "colab": {
          "base_uri": "https://localhost:8080/",
          "height": 490
        },
        "id": "yU-e61tHSLbN",
        "outputId": "6a42df21-99fe-46a7-e5d8-f3294762c075"
      },
      "execution_count": 18,
      "outputs": [
        {
          "output_type": "execute_result",
          "data": {
            "text/plain": [
              "answer\n",
              "yes                                                                  160\n",
              "Yes                                                                  133\n",
              "Yes.                                                                  39\n",
              "no                                                                    34\n",
              "No                                                                    25\n",
              "                                                                    ... \n",
              "he defended William \"Duff\" Armstrong                                   1\n",
              "(What?)                                                                1\n",
              "Uruguay exports architectural services to India and Latin America      1\n",
              "Its independence                                                       1\n",
              "Yes. It's located in the southeastern part                             1\n",
              "Name: count, Length: 499, dtype: int64"
            ],
            "text/html": [
              "<div>\n",
              "<style scoped>\n",
              "    .dataframe tbody tr th:only-of-type {\n",
              "        vertical-align: middle;\n",
              "    }\n",
              "\n",
              "    .dataframe tbody tr th {\n",
              "        vertical-align: top;\n",
              "    }\n",
              "\n",
              "    .dataframe thead th {\n",
              "        text-align: right;\n",
              "    }\n",
              "</style>\n",
              "<table border=\"1\" class=\"dataframe\">\n",
              "  <thead>\n",
              "    <tr style=\"text-align: right;\">\n",
              "      <th></th>\n",
              "      <th>count</th>\n",
              "    </tr>\n",
              "    <tr>\n",
              "      <th>answer</th>\n",
              "      <th></th>\n",
              "    </tr>\n",
              "  </thead>\n",
              "  <tbody>\n",
              "    <tr>\n",
              "      <th>yes</th>\n",
              "      <td>160</td>\n",
              "    </tr>\n",
              "    <tr>\n",
              "      <th>Yes</th>\n",
              "      <td>133</td>\n",
              "    </tr>\n",
              "    <tr>\n",
              "      <th>Yes.</th>\n",
              "      <td>39</td>\n",
              "    </tr>\n",
              "    <tr>\n",
              "      <th>no</th>\n",
              "      <td>34</td>\n",
              "    </tr>\n",
              "    <tr>\n",
              "      <th>No</th>\n",
              "      <td>25</td>\n",
              "    </tr>\n",
              "    <tr>\n",
              "      <th>...</th>\n",
              "      <td>...</td>\n",
              "    </tr>\n",
              "    <tr>\n",
              "      <th>he defended William \"Duff\" Armstrong</th>\n",
              "      <td>1</td>\n",
              "    </tr>\n",
              "    <tr>\n",
              "      <th>(What?)</th>\n",
              "      <td>1</td>\n",
              "    </tr>\n",
              "    <tr>\n",
              "      <th>Uruguay exports architectural services to India and Latin America</th>\n",
              "      <td>1</td>\n",
              "    </tr>\n",
              "    <tr>\n",
              "      <th>Its independence</th>\n",
              "      <td>1</td>\n",
              "    </tr>\n",
              "    <tr>\n",
              "      <th>Yes. It's located in the southeastern part</th>\n",
              "      <td>1</td>\n",
              "    </tr>\n",
              "  </tbody>\n",
              "</table>\n",
              "<p>499 rows × 1 columns</p>\n",
              "</div><br><label><b>dtype:</b> int64</label>"
            ]
          },
          "metadata": {},
          "execution_count": 18
        }
      ]
    },
    {
      "cell_type": "markdown",
      "source": [
        "Simplifying Answers to have only 3 categories (Yes, No and subjective answer)"
      ],
      "metadata": {
        "id": "H18nGyGVWJ0T"
      }
    },
    {
      "cell_type": "code",
      "source": [
        "def simplify_answer(ans):\n",
        "    ans_lower = str(ans).strip().lower()\n",
        "    if ans_lower in ['yes', 'no']:\n",
        "        return ans_lower\n",
        "    return 'subjective answer'\n",
        "\n",
        "df_qa['answer_3'] = df_qa['answer'].apply(simplify_answer)\n"
      ],
      "metadata": {
        "id": "fXuM29RFVw4J"
      },
      "execution_count": 30,
      "outputs": []
    },
    {
      "cell_type": "markdown",
      "source": [
        "Graph for the Test Dataset"
      ],
      "metadata": {
        "id": "sY6jpqIoVZZm"
      }
    },
    {
      "cell_type": "code",
      "source": [
        "ax = df_qa.answer_3.value_counts().plot(kind='bar')\n",
        "ax.bar_label(ax.containers[0])  # Automatically annotates each bar with the count\n",
        "\n",
        "plt.show()"
      ],
      "metadata": {
        "colab": {
          "base_uri": "https://localhost:8080/",
          "height": 561
        },
        "id": "R-eRhMb3TnXC",
        "outputId": "d630cb51-1ca1-4b4d-c353-3b7ab57d31ff"
      },
      "execution_count": 32,
      "outputs": [
        {
          "output_type": "display_data",
          "data": {
            "text/plain": [
              "<Figure size 640x480 with 1 Axes>"
            ],
            "image/png": "[encoded data removed]"
          },
          "metadata": {}
        }
      ]
    },
    {
      "cell_type": "markdown",
      "source": [
        "## Conclusion"
      ],
      "metadata": {
        "id": "hThVwMHEWbZa"
      }
    },
    {
      "cell_type": "markdown",
      "source": [
        "The dataset (test and train) is highly structured and formatted extremely appropriately to make a RAG"
      ],
      "metadata": {
        "id": "-hD6douNWeOj"
      }
    }
  ]
}